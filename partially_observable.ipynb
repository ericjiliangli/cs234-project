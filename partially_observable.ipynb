{
 "cells": [
  {
   "cell_type": "code",
   "execution_count": 1,
   "metadata": {},
   "outputs": [],
   "source": [
    "import gym\n",
    "import numpy as np\n",
    "\n",
    "class PartialObsWrapper(gym.ObservationWrapper):\n",
    "    def __init__(self, env, mask):\n",
    "        super().__init__(env)\n",
    "        self.mask = mask  # A binary mask with the same shape as the observation\n",
    "\n",
    "    def observation(self, obs):\n",
    "        return obs * self.mask\n",
    "\n",
    "# Example usage:\n",
    "# Suppose the observation is 24-dimensional and you want to zero out the 10 LIDAR features\n",
    "# (LIDAR features occupy indices 14 to 23).\n",
    "mask = np.ones(24)\n",
    "mask[14:] = 0  # Zeroing out LIDAR readings\n",
    "env = gym.make('BipedalWalker-v3')\n"
   ]
  },
  {
   "cell_type": "markdown",
   "metadata": {},
   "source": [
    "# Before Masking out LIDAR Features"
   ]
  },
  {
   "cell_type": "code",
   "execution_count": 2,
   "metadata": {},
   "outputs": [
    {
     "data": {
      "text/plain": [
       "array([ 2.74743349e-03, -1.16000465e-05,  9.02364030e-04, -1.59999207e-02,\n",
       "        9.19907987e-02, -1.19081431e-03,  8.60251963e-01,  2.28300225e-03,\n",
       "        1.00000000e+00,  3.23960967e-02, -1.19072816e-03,  8.53801489e-01,\n",
       "        8.42152338e-04,  1.00000000e+00,  4.40814018e-01,  4.45820123e-01,\n",
       "        4.61422771e-01,  4.89550203e-01,  5.34102798e-01,  6.02461040e-01,\n",
       "        7.09148884e-01,  8.85931849e-01,  1.00000000e+00,  1.00000000e+00],\n",
       "      dtype=float32)"
      ]
     },
     "execution_count": 2,
     "metadata": {},
     "output_type": "execute_result"
    }
   ],
   "source": [
    "obs = env.reset()\n",
    "obs"
   ]
  },
  {
   "cell_type": "code",
   "execution_count": 3,
   "metadata": {},
   "outputs": [
    {
     "name": "stdout",
     "output_type": "stream",
     "text": [
      "[-0.00160483  0.00297276  0.00839635  0.01122829  0.37730297 -0.42543644\n",
      "  0.21749258  0.5265828   1.          0.29161444 -0.28891927  0.20029742\n",
      "  0.34529606  1.          0.45620748  0.4613884   0.47753593  0.50664556\n",
      "  0.552754    0.6234993   0.73391277  0.91686904  1.          1.        ]\n",
      "-0.06534359192258131\n",
      "False\n",
      "{}\n"
     ]
    }
   ],
   "source": [
    "action = [0.1, 0.2, -0.1, 0.1]  # Example action\n",
    "\n",
    "next_obs, reward, done, info = env.step(action)\n",
    "\n",
    "print(next_obs)\n",
    "print(reward)\n",
    "print(done)\n",
    "print(info)"
   ]
  },
  {
   "cell_type": "markdown",
   "metadata": {},
   "source": [
    "# After Masking out LIDAR Features"
   ]
  },
  {
   "cell_type": "code",
   "execution_count": 4,
   "metadata": {},
   "outputs": [],
   "source": [
    "env.reset()\n",
    "env = PartialObsWrapper(env, mask)"
   ]
  },
  {
   "cell_type": "code",
   "execution_count": 5,
   "metadata": {},
   "outputs": [
    {
     "data": {
      "text/plain": [
       "array([ 2.74522230e-03,  1.42652843e-05, -1.86008948e-03, -1.60000939e-02,\n",
       "        9.26104635e-02,  4.31807293e-03,  8.59657228e-01, -2.03081686e-03,\n",
       "        1.00000000e+00,  3.28936689e-02,  4.31791740e-03,  8.53472352e-01,\n",
       "       -2.93807988e-03,  1.00000000e+00,  0.00000000e+00,  0.00000000e+00,\n",
       "        0.00000000e+00,  0.00000000e+00,  0.00000000e+00,  0.00000000e+00,\n",
       "        0.00000000e+00,  0.00000000e+00,  0.00000000e+00,  0.00000000e+00])"
      ]
     },
     "execution_count": 5,
     "metadata": {},
     "output_type": "execute_result"
    }
   ],
   "source": [
    "env.reset()"
   ]
  },
  {
   "cell_type": "code",
   "execution_count": 6,
   "metadata": {},
   "outputs": [
    {
     "name": "stdout",
     "output_type": "stream",
     "text": [
      "[ 0.0084478   0.00299259  0.00561321  0.01118812 -0.22250541 -0.41879797\n",
      "  1.33717585  0.5173195   1.          0.25904337 -0.28507438  0.24334955\n",
      "  0.34339324  1.          0.          0.          0.          0.\n",
      "  0.          0.          0.          0.          0.          0.        ]\n",
      "-0.044422120355069636\n",
      "False\n",
      "{}\n"
     ]
    }
   ],
   "source": [
    "action = [0.1, 0.2, -0.1, 0.1]  # Example action\n",
    "\n",
    "next_obs, reward, done, info = env.step(action)\n",
    "\n",
    "print(next_obs)\n",
    "print(reward)\n",
    "print(done)\n",
    "print(info)"
   ]
  },
  {
   "cell_type": "code",
   "execution_count": null,
   "metadata": {},
   "outputs": [],
   "source": []
  }
 ],
 "metadata": {
  "kernelspec": {
   "display_name": "cs234",
   "language": "python",
   "name": "python3"
  },
  "language_info": {
   "codemirror_mode": {
    "name": "ipython",
    "version": 3
   },
   "file_extension": ".py",
   "mimetype": "text/x-python",
   "name": "python",
   "nbconvert_exporter": "python",
   "pygments_lexer": "ipython3",
   "version": "3.10.12"
  }
 },
 "nbformat": 4,
 "nbformat_minor": 2
}
